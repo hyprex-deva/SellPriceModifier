{
  "nbformat": 4,
  "nbformat_minor": 0,
  "metadata": {
    "colab": {
      "provenance": [],
      "authorship_tag": "ABX9TyOL/tVMhiuNDCyXFW+e6sM6",
      "include_colab_link": true
    },
    "kernelspec": {
      "name": "python3",
      "display_name": "Python 3"
    },
    "language_info": {
      "name": "python"
    }
  },
  "cells": [
    {
      "cell_type": "markdown",
      "metadata": {
        "id": "view-in-github",
        "colab_type": "text"
      },
      "source": [
        "<a href=\"https://colab.research.google.com/github/hyprex-deva/SellPriceModifier/blob/main/PriceModifier.ipynb\" target=\"_parent\"><img src=\"https://colab.research.google.com/assets/colab-badge.svg\" alt=\"Open In Colab\"/></a>"
      ]
    },
    {
      "cell_type": "code",
      "execution_count": 21,
      "metadata": {
        "colab": {
          "base_uri": "https://localhost:8080/"
        },
        "id": "BE46BBmAP-v0",
        "outputId": "494bb911-dc74-4d42-f1fb-ee12af620916"
      },
      "outputs": [
        {
          "name": "stdout",
          "output_type": "stream",
          "text": [
            "Enter the modifier (e.g., 1 for 100% increase, 0.2 for 20% increase, 2.0 for 200% increase): 5.0\n"
          ]
        }
      ],
      "source": [
        "import re\n",
        "\n",
        "def modify_sell_price(input_file, output_file, modifier):\n",
        "    # Convert the modifier to a percentage increase\n",
        "    multiplier = 1 + modifier\n",
        "\n",
        "    with open(input_file, 'r') as file:\n",
        "        content = file.read()\n",
        "\n",
        "    # Define a pattern to find sellPrice lines\n",
        "    pattern = re.compile(r'sellPrice:\\s*(\\d+\\.\\d+)')\n",
        "\n",
        "    def replace(match):\n",
        "        old_price = float(match.group(1))\n",
        "        new_price = old_price * multiplier\n",
        "        return f'sellPrice: {new_price:.5f}'\n",
        "\n",
        "    # Replace the sellPrice values\n",
        "    updated_content = pattern.sub(replace, content)\n",
        "\n",
        "    # Write the modified content to the output file\n",
        "    with open(output_file, 'w') as file:\n",
        "        file.write(updated_content)\n",
        "\n",
        "# Get user input for the modifier\n",
        "try:\n",
        "    modifier = float(input(\"Enter the modifier (e.g., 1 for 100% increase, 0.2 for 20% increase, 2.0 for 200% increase): \"))\n",
        "except ValueError:\n",
        "    print(\"Invalid input. Please enter a numeric value for the modifier.\")\n",
        "    exit()\n",
        "\n",
        "# Define input and output files\n",
        "input_file = 'input.yml'\n",
        "output_file = 'output.yml'\n",
        "\n",
        "# Call the function with user input\n",
        "modify_sell_price(input_file, output_file, modifier)\n"
      ]
    },
    {
      "cell_type": "code",
      "source": [],
      "metadata": {
        "id": "F-Xqf1QTRebS"
      },
      "execution_count": 11,
      "outputs": []
    }
  ]
}